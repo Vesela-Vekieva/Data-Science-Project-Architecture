{
 "cells": [
  {
   "cell_type": "code",
   "execution_count": 1,
   "id": "81e4ecc5-4983-4ddf-8dc2-af54d0e550e3",
   "metadata": {},
   "outputs": [],
   "source": [
    "import os"
   ]
  },
  {
   "cell_type": "code",
   "execution_count": 4,
   "id": "af69ceab-353c-447e-9347-f48de3fc4cde",
   "metadata": {},
   "outputs": [
    {
     "name": "stdout",
     "output_type": "stream",
     "text": [
      "Directory structure created!\n"
     ]
    }
   ],
   "source": [
    "# Define the directory names\n",
    "directories = [\n",
    "    \"data\",       # For storing data files\n",
    "    \"notebooks\",  # For storing Jupyter notebooks\n",
    "    \"src\",        # For Python source code\n",
    "    \"tests\"       # For unit tests\n",
    "]\n",
    "\n",
    "# Create the directories\n",
    "for directory in directories:\n",
    "    os.makedirs(directory, exist_ok=True)\n",
    "\n",
    "# Optional: Create an empty README.md file in each directory\n",
    "for directory in directories:\n",
    "    with open(os.path.join(directory, 'README.md'), 'w') as f:\n",
    "        f.write(f\"# {directory.capitalize()} directory\\n\\nThis directory contains {directory} files.\")\n",
    "\n",
    "print(\"Directory structure created!\")"
   ]
  },
  {
   "cell_type": "code",
   "execution_count": null,
   "id": "b747099a-8b48-4ea3-a8b4-e0b8df135d56",
   "metadata": {},
   "outputs": [],
   "source": []
  }
 ],
 "metadata": {
  "kernelspec": {
   "display_name": "Python 3 (ipykernel)",
   "language": "python",
   "name": "python3"
  },
  "language_info": {
   "codemirror_mode": {
    "name": "ipython",
    "version": 3
   },
   "file_extension": ".py",
   "mimetype": "text/x-python",
   "name": "python",
   "nbconvert_exporter": "python",
   "pygments_lexer": "ipython3",
   "version": "3.11.7"
  }
 },
 "nbformat": 4,
 "nbformat_minor": 5
}
